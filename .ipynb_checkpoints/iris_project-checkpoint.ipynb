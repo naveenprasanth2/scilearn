{
 "cells": [
  {
   "cell_type": "code",
   "execution_count": 1,
   "id": "ac62f06e-6d8c-4b04-9de8-fa5b7b5b0604",
   "metadata": {},
   "outputs": [],
   "source": [
    "import numpy as np\n",
    "import pandas as pd\n",
    "import seaborn as sns\n",
    "import matplotlib.pyplot as plt\n",
    "\n",
    "sns.set_theme(color_codes = True)\n",
    "\n",
    "# %matplotlib inline"
   ]
  },
  {
   "cell_type": "code",
   "execution_count": 2,
   "id": "7b43eee9-0738-475d-9e0d-dfb3bb92c2ff",
   "metadata": {},
   "outputs": [
    {
     "name": "stdout",
     "output_type": "stream",
     "text": [
      "2.3.1\n",
      "2.3.1\n",
      "0.13.2\n"
     ]
    }
   ],
   "source": [
    "print(np.__version__)\n",
    "print(pd.__version__)\n",
    "print(sns.__version__) # pyright: ignore[reportAttributeAccessIssue]\n",
    "# print(plt.__version__) #version not there as pyplot is actually imported\n"
   ]
  },
  {
   "cell_type": "code",
   "execution_count": null,
   "id": "7f6833cc-03dc-4b72-9497-668fd70d5b2e",
   "metadata": {},
   "outputs": [],
   "source": []
  }
 ],
 "metadata": {
  "kernelspec": {
   "display_name": "ml_python",
   "language": "python",
   "name": "python3"
  },
  "language_info": {
   "codemirror_mode": {
    "name": "ipython",
    "version": 3
   },
   "file_extension": ".py",
   "mimetype": "text/x-python",
   "name": "python",
   "nbconvert_exporter": "python",
   "pygments_lexer": "ipython3",
   "version": "3.13.5"
  }
 },
 "nbformat": 4,
 "nbformat_minor": 5
}
